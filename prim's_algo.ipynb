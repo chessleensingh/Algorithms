{
  "nbformat": 4,
  "nbformat_minor": 0,
  "metadata": {
    "colab": {
      "name": "prim's-algo.ipynb",
      "provenance": [],
      "include_colab_link": true
    },
    "kernelspec": {
      "name": "python3",
      "display_name": "Python 3"
    }
  },
  "cells": [
    {
      "cell_type": "markdown",
      "metadata": {
        "id": "view-in-github",
        "colab_type": "text"
      },
      "source": [
        "<a href=\"https://colab.research.google.com/github/chessleensingh/Patient-Vitals-System/blob/master/prim's_algo.ipynb\" target=\"_parent\"><img src=\"https://colab.research.google.com/assets/colab-badge.svg\" alt=\"Open In Colab\"/></a>"
      ]
    },
    {
      "cell_type": "code",
      "metadata": {
        "id": "_zMWUkhh4y76",
        "colab_type": "code",
        "colab": {}
      },
      "source": [
        "import numpy as np\n",
        "import pandas as pd\n",
        "import heapq as hq"
      ],
      "execution_count": 0,
      "outputs": []
    },
    {
      "cell_type": "code",
      "metadata": {
        "id": "13VMFFFY5RY8",
        "colab_type": "code",
        "colab": {}
      },
      "source": [
        "class Nodes:\n",
        "  def __init__(self, data, weight):\n",
        "    self.data = data\n",
        "    self.next = None\n",
        "    self.weight = weight"
      ],
      "execution_count": 0,
      "outputs": []
    },
    {
      "cell_type": "code",
      "metadata": {
        "id": "-ZkDQ2zR5kDA",
        "colab_type": "code",
        "outputId": "c9b4ee04-1b4e-40f2-b3a2-574cc188477a",
        "colab": {
          "base_uri": "https://localhost:8080/",
          "height": 1000
        }
      },
      "source": [
        "v = int(input(\"enter the number of vertices\"))\n",
        "e = int(input(\"enter the number of edges\"))\n",
        "\n",
        "#we make an array adjacency list just to store the values when the user inputs it, altough we will use a diffrent data structure to carry out the prim's algorithm\n",
        "adjacency_list = []\n",
        "\n",
        "\n",
        "#this line of code allows us to populate the array with \"None's\"\n",
        "for i in range(v):\n",
        "  adjacency_list.append(Nodes(i, None))\n",
        "  \n",
        "  \n",
        "#this allows us to populate the whole adjacecny list with the values the user wants along with the weights\n",
        "for i in range(e):\n",
        "  vertex = (input(\"input two vertices in the format of \\\"edge from, edge to, weight\\\"\"))\n",
        "  vertex = vertex.split(\",\")\n",
        "  print(vertex)\n",
        "  data = vertex[1]\n",
        "  weight = vertex[2] \n",
        "  #Vertex\n",
        "  \n",
        "  #we make a current vertex variable just so that we can change it or move it when we go to the next node in an adjacency list\n",
        "  current_vertex = adjacency_list[int(vertex[0])]\n",
        "  \n",
        "  \n",
        "  \n",
        "  while current_vertex.next != None:\n",
        "    current_vertex = current_vertex.next\n",
        "    print(current_vertex.next)\n",
        "  current_vertex.next = Nodes(data, weight)\n",
        "  \n",
        "  \n",
        "  \n",
        "  #but that's not all we need to set the reverse edges also if it is an undirected graph and hence we will reverse the whole thing just by reversing the data part with the starting vertex\n",
        "  \n",
        "  #we set the second parameter to the first ----> almost\n",
        "  data = vertex[0]\n",
        "  \n",
        "  \n",
        "  \n",
        "  weight = vertex[2] \n",
        "  #Vertex\n",
        "  \n",
        "  #we make the second parameter to the first\n",
        "  current_vertex = adjacency_list[int(vertex[1])]\n",
        "  while current_vertex.next != None:\n",
        "    current_vertex = current_vertex.next\n",
        "    print(current_vertex.next)\n",
        "  current_vertex.next = Nodes(data, weight)"
      ],
      "execution_count": 0,
      "outputs": [
        {
          "output_type": "stream",
          "text": [
            "enter the number of vertices7\n",
            "enter the number of edges12\n",
            "input two vertices in the format of \"edge from, edge to, weight\"0,1,12\n",
            "['0', '1', '12']\n",
            "input two vertices in the format of \"edge from, edge to, weight\"0,2,7\n",
            "['0', '2', '7']\n",
            "None\n",
            "input two vertices in the format of \"edge from, edge to, weight\"0,3,5\n",
            "['0', '3', '5']\n",
            "<__main__.Nodes object at 0x7f67e10485c0>\n",
            "None\n",
            "input two vertices in the format of \"edge from, edge to, weight\"1,6,7\n",
            "['1', '6', '7']\n",
            "None\n",
            "input two vertices in the format of \"edge from, edge to, weight\"1,2,4\n",
            "['1', '2', '4']\n",
            "<__main__.Nodes object at 0x7f67e1048400>\n",
            "None\n",
            "None\n",
            "input two vertices in the format of \"edge from, edge to, weight\"2,6,3\n",
            "['2', '6', '3']\n",
            "<__main__.Nodes object at 0x7f67e10484a8>\n",
            "None\n",
            "None\n",
            "input two vertices in the format of \"edge from, edge to, weight\"2,3,9\n",
            "['2', '3', '9']\n",
            "<__main__.Nodes object at 0x7f67e10484a8>\n",
            "<__main__.Nodes object at 0x7f67e0766e80>\n",
            "None\n",
            "None\n",
            "input two vertices in the format of \"edge from, edge to, weight\"2,4,4\n",
            "['2', '4', '4']\n",
            "<__main__.Nodes object at 0x7f67e10484a8>\n",
            "<__main__.Nodes object at 0x7f67e0766e80>\n",
            "<__main__.Nodes object at 0x7f67e07667b8>\n",
            "None\n",
            "input two vertices in the format of \"edge from, edge to, weight\"3,4,7\n",
            "['3', '4', '7']\n",
            "<__main__.Nodes object at 0x7f67e076afd0>\n",
            "None\n",
            "None\n",
            "input two vertices in the format of \"edge from, edge to, weight\"4,6,2\n",
            "['4', '6', '2']\n",
            "<__main__.Nodes object at 0x7f67e07630f0>\n",
            "None\n",
            "<__main__.Nodes object at 0x7f67e10484e0>\n",
            "None\n",
            "input two vertices in the format of \"edge from, edge to, weight\"4,5,5\n",
            "['4', '5', '5']\n",
            "<__main__.Nodes object at 0x7f67e07630f0>\n",
            "<__main__.Nodes object at 0x7f67e1048c18>\n",
            "None\n",
            "input two vertices in the format of \"edge from, edge to, weight\"5,6,1\n",
            "['5', '6', '1']\n",
            "None\n",
            "<__main__.Nodes object at 0x7f67e10484e0>\n",
            "<__main__.Nodes object at 0x7f67e0763128>\n",
            "None\n"
          ],
          "name": "stdout"
        }
      ]
    },
    {
      "cell_type": "code",
      "metadata": {
        "id": "laMd5-oL7eT9",
        "colab_type": "code",
        "outputId": "909b64e5-b673-4ec1-d3d5-634c1ec2e03f",
        "colab": {
          "base_uri": "https://localhost:8080/",
          "height": 136
        }
      },
      "source": [
        "for i in range(v):\n",
        "  current_vertex = adjacency_list[i]\n",
        "  while current_vertex.next!=None:\n",
        "    print(current_vertex.data, end=\" --> \")\n",
        "    current_vertex = current_vertex.next\n",
        "  print(current_vertex.data)\n",
        "  "
      ],
      "execution_count": 0,
      "outputs": [
        {
          "output_type": "stream",
          "text": [
            "0 --> 1 --> 2 --> 3\n",
            "1 --> 0 --> 6 --> 2\n",
            "2 --> 0 --> 1 --> 6 --> 3 --> 4\n",
            "3 --> 0 --> 2 --> 4\n",
            "4 --> 2 --> 3 --> 6 --> 5\n",
            "5 --> 4 --> 6\n",
            "6 --> 1 --> 2 --> 4 --> 5\n"
          ],
          "name": "stdout"
        }
      ]
    },
    {
      "cell_type": "code",
      "metadata": {
        "id": "S6QacO3p7g8l",
        "colab_type": "code",
        "colab": {}
      },
      "source": [
        "zero_array = np.zeros((v,v),dtype = (int))\n",
        "adjacency_matrix = pd.DataFrame(zero_array)"
      ],
      "execution_count": 0,
      "outputs": []
    },
    {
      "cell_type": "code",
      "metadata": {
        "id": "5hIo2zPwHNTQ",
        "colab_type": "code",
        "outputId": "d534a052-d01d-4665-fc9b-4d8a264ba8f7",
        "colab": {
          "base_uri": "https://localhost:8080/",
          "height": 266
        }
      },
      "source": [
        "adjacency_matrix"
      ],
      "execution_count": 0,
      "outputs": [
        {
          "output_type": "execute_result",
          "data": {
            "text/html": [
              "<div>\n",
              "<style scoped>\n",
              "    .dataframe tbody tr th:only-of-type {\n",
              "        vertical-align: middle;\n",
              "    }\n",
              "\n",
              "    .dataframe tbody tr th {\n",
              "        vertical-align: top;\n",
              "    }\n",
              "\n",
              "    .dataframe thead th {\n",
              "        text-align: right;\n",
              "    }\n",
              "</style>\n",
              "<table border=\"1\" class=\"dataframe\">\n",
              "  <thead>\n",
              "    <tr style=\"text-align: right;\">\n",
              "      <th></th>\n",
              "      <th>0</th>\n",
              "      <th>1</th>\n",
              "      <th>2</th>\n",
              "      <th>3</th>\n",
              "      <th>4</th>\n",
              "      <th>5</th>\n",
              "      <th>6</th>\n",
              "    </tr>\n",
              "  </thead>\n",
              "  <tbody>\n",
              "    <tr>\n",
              "      <th>0</th>\n",
              "      <td>0</td>\n",
              "      <td>0</td>\n",
              "      <td>0</td>\n",
              "      <td>0</td>\n",
              "      <td>0</td>\n",
              "      <td>0</td>\n",
              "      <td>0</td>\n",
              "    </tr>\n",
              "    <tr>\n",
              "      <th>1</th>\n",
              "      <td>0</td>\n",
              "      <td>0</td>\n",
              "      <td>0</td>\n",
              "      <td>0</td>\n",
              "      <td>0</td>\n",
              "      <td>0</td>\n",
              "      <td>0</td>\n",
              "    </tr>\n",
              "    <tr>\n",
              "      <th>2</th>\n",
              "      <td>0</td>\n",
              "      <td>0</td>\n",
              "      <td>0</td>\n",
              "      <td>0</td>\n",
              "      <td>0</td>\n",
              "      <td>0</td>\n",
              "      <td>0</td>\n",
              "    </tr>\n",
              "    <tr>\n",
              "      <th>3</th>\n",
              "      <td>0</td>\n",
              "      <td>0</td>\n",
              "      <td>0</td>\n",
              "      <td>0</td>\n",
              "      <td>0</td>\n",
              "      <td>0</td>\n",
              "      <td>0</td>\n",
              "    </tr>\n",
              "    <tr>\n",
              "      <th>4</th>\n",
              "      <td>0</td>\n",
              "      <td>0</td>\n",
              "      <td>0</td>\n",
              "      <td>0</td>\n",
              "      <td>0</td>\n",
              "      <td>0</td>\n",
              "      <td>0</td>\n",
              "    </tr>\n",
              "    <tr>\n",
              "      <th>5</th>\n",
              "      <td>0</td>\n",
              "      <td>0</td>\n",
              "      <td>0</td>\n",
              "      <td>0</td>\n",
              "      <td>0</td>\n",
              "      <td>0</td>\n",
              "      <td>0</td>\n",
              "    </tr>\n",
              "    <tr>\n",
              "      <th>6</th>\n",
              "      <td>0</td>\n",
              "      <td>0</td>\n",
              "      <td>0</td>\n",
              "      <td>0</td>\n",
              "      <td>0</td>\n",
              "      <td>0</td>\n",
              "      <td>0</td>\n",
              "    </tr>\n",
              "  </tbody>\n",
              "</table>\n",
              "</div>"
            ],
            "text/plain": [
              "   0  1  2  3  4  5  6\n",
              "0  0  0  0  0  0  0  0\n",
              "1  0  0  0  0  0  0  0\n",
              "2  0  0  0  0  0  0  0\n",
              "3  0  0  0  0  0  0  0\n",
              "4  0  0  0  0  0  0  0\n",
              "5  0  0  0  0  0  0  0\n",
              "6  0  0  0  0  0  0  0"
            ]
          },
          "metadata": {
            "tags": []
          },
          "execution_count": 8
        }
      ]
    },
    {
      "cell_type": "code",
      "metadata": {
        "id": "qR6uKnYmJUuM",
        "colab_type": "code",
        "colab": {}
      },
      "source": [
        "for i in range(v):\n",
        "  current_vertex = adjacency_list[i]\n",
        "  while current_vertex.next!=None:\n",
        "    if(i == current_vertex.data): \n",
        "      current_vertex = current_vertex.next\n",
        "      continue\n",
        "    adjacency_matrix.iloc[i,int(current_vertex.data)] = 1\n",
        "    adjacency_matrix.iloc[int(current_vertex.data),i] = 1\n",
        "    current_vertex = current_vertex.next\n",
        "  if(i == current_vertex.data): \n",
        "      current_vertex = current_vertex.next\n",
        "      continue  \n",
        "  adjacency_matrix.iloc[i,int(current_vertex.data)] = 1\n",
        "  adjacency_matrix.iloc[int(current_vertex.data),i] = 1"
      ],
      "execution_count": 0,
      "outputs": []
    },
    {
      "cell_type": "code",
      "metadata": {
        "id": "M3R5jEPcKwOD",
        "colab_type": "code",
        "colab": {}
      },
      "source": [
        "#adjacency_list[4].next.weight\n",
        "#adjacency_list[4].next.data\n"
      ],
      "execution_count": 0,
      "outputs": []
    },
    {
      "cell_type": "code",
      "metadata": {
        "id": "57wh9Va6MTtL",
        "colab_type": "code",
        "outputId": "531e976f-1c97-4356-acca-75a2622a8725",
        "colab": {
          "base_uri": "https://localhost:8080/",
          "height": 136
        }
      },
      "source": [
        "explored_set = set()\n",
        "frontier = []\n",
        "start_vertex = int(input(\"enter a vertex to start\"))\n",
        "\n",
        "while(len(explored_set)!=v-1):\n",
        "  current_vertex = adjacency_list[start_vertex]\n",
        "  explored_set.add(start_vertex)\n",
        "  while current_vertex.next != None:\n",
        "    if((current_vertex.weight)==None):\n",
        "      current_vertex  = current_vertex.next\n",
        "      continue\n",
        "    elif(int(start_vertex) in explored_set and int(current_vertex.data) in explored_set):\n",
        "      current_vertex  = current_vertex.next\n",
        "      continue\n",
        "    \n",
        "    \n",
        "    \n",
        "    #add the value to the heapq\n",
        "    \n",
        "    hq.heappush(frontier,(int(current_vertex.weight),[int(start_vertex), int(current_vertex.data)])) \n",
        "    #print(\"hp1\",(current_vertex.weight,start_vertex, current_vertex.data))\n",
        "    current_vertex  = current_vertex.next\n",
        "  if(int(start_vertex) in explored_set and int(current_vertex.data) in explored_set):\n",
        "    current_vertex = current_vertex.next  \n",
        "  else:\n",
        "    hq.heappush(frontier,(int(current_vertex.weight),[int(start_vertex), int(current_vertex.data)]))\n",
        "    #print(\"hp2\",(current_vertex.weight,start_vertex, current_vertex.data))\n",
        "  #this makes a new start vertex apparently and uses the heaoq to make it a second vertex\n",
        "  x = hq.heappop(frontier)\n",
        "  start_vertex = int(x[1][1])\n",
        "  print(x)"
      ],
      "execution_count": 0,
      "outputs": [
        {
          "output_type": "stream",
          "text": [
            "enter a vertex to start0\n",
            "(5, [0, 3])\n",
            "(7, [0, 2])\n",
            "(3, [2, 6])\n",
            "(1, [6, 5])\n",
            "(2, [6, 4])\n",
            "(4, [2, 1])\n"
          ],
          "name": "stdout"
        }
      ]
    },
    {
      "cell_type": "code",
      "metadata": {
        "id": "RSCXJQYsWhwr",
        "colab_type": "code",
        "colab": {}
      },
      "source": [
        "x = []\n",
        "hq.heappush(x,(0,[1,2]))"
      ],
      "execution_count": 0,
      "outputs": []
    },
    {
      "cell_type": "code",
      "metadata": {
        "id": "kA7P21S9WvHZ",
        "colab_type": "code",
        "colab": {}
      },
      "source": [
        "hq.heappop(x)[1][1]"
      ],
      "execution_count": 0,
      "outputs": []
    },
    {
      "cell_type": "code",
      "metadata": {
        "id": "OA1CDFFYW5js",
        "colab_type": "code",
        "outputId": "907d4ba0-b0d4-4d38-a8d0-8427ae6845d2",
        "colab": {
          "base_uri": "https://localhost:8080/",
          "height": 34
        }
      },
      "source": [
        "print(adjacency_list[5].next.data)"
      ],
      "execution_count": 0,
      "outputs": [
        {
          "output_type": "stream",
          "text": [
            "4\n"
          ],
          "name": "stdout"
        }
      ]
    },
    {
      "cell_type": "code",
      "metadata": {
        "id": "TinDee8LYVZh",
        "colab_type": "code",
        "outputId": "434cdce9-33dc-44f5-b723-844c25afafb6",
        "colab": {
          "base_uri": "https://localhost:8080/",
          "height": 34
        }
      },
      "source": [
        "explored_set"
      ],
      "execution_count": 0,
      "outputs": [
        {
          "output_type": "execute_result",
          "data": {
            "text/plain": [
              "{0, 2, 3, 5, 6}"
            ]
          },
          "metadata": {
            "tags": []
          },
          "execution_count": 27
        }
      ]
    },
    {
      "cell_type": "code",
      "metadata": {
        "id": "pBqQFOdXe6ww",
        "colab_type": "code",
        "colab": {}
      },
      "source": [
        ""
      ],
      "execution_count": 0,
      "outputs": []
    }
  ]
}